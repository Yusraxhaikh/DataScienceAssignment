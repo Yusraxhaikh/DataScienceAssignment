{
 "cells": [
  {
   "cell_type": "code",
   "execution_count": 1,
   "metadata": {},
   "outputs": [
    {
     "name": "stdout",
     "output_type": "stream",
     "text": [
      "Twinkle, twinkle ,little Star\n",
      "\t how i wonder what you are\n",
      "\t \t Up above the world so high,\n",
      "\t \t like a diamond in the sky\n",
      "Twinkle, twinkle ,little Star\n",
      "\t how i wonder what you are\n"
     ]
    }
   ],
   "source": [
    "print(\"Twinkle, twinkle ,little Star\")\n",
    "print(\"\\t how i wonder what you are\")\n",
    "print(\"\\t \\t Up above the world so high,\")\n",
    "print(\"\\t \\t like a diamond in the sky\")\n",
    "print(\"Twinkle, twinkle ,little Star\")\n",
    "print(\"\\t how i wonder what you are\")"
   ]
  },
  {
   "cell_type": "code",
   "execution_count": 2,
   "metadata": {},
   "outputs": [
    {
     "data": {
      "text/plain": [
       "'3.7.6'"
      ]
     },
     "execution_count": 2,
     "metadata": {},
     "output_type": "execute_result"
    }
   ],
   "source": [
    "from platform import python_version\n",
    "python_version()"
   ]
  },
  {
   "cell_type": "code",
   "execution_count": 3,
   "metadata": {},
   "outputs": [
    {
     "name": "stdout",
     "output_type": "stream",
     "text": [
      "2022-01-01 23:55:03.642200\n"
     ]
    }
   ],
   "source": [
    "import datetime as DT\n",
    "print(DT.datetime.now())"
   ]
  },
  {
   "cell_type": "code",
   "execution_count": 4,
   "metadata": {},
   "outputs": [
    {
     "name": "stdout",
     "output_type": "stream",
     "text": [
      "Area of Circle\n",
      "Enter Radius Of Circle:5\n",
      "Area of Circle =  78.53981633974483\n"
     ]
    }
   ],
   "source": [
    "import math\n",
    "print(\"Area of Circle\")\n",
    "rad = float(input(\"Enter Radius Of Circle:\"))\n",
    "area = math.pi * (rad**2)\n",
    "print(\"Area of Circle = \", area)"
   ]
  },
  {
   "cell_type": "code",
   "execution_count": 5,
   "metadata": {},
   "outputs": [
    {
     "name": "stdout",
     "output_type": "stream",
     "text": [
      "Enter your First Name:yusra\n",
      "Enter your Last Name:shaikh\n",
      "hkiahs arsuy"
     ]
    }
   ],
   "source": [
    "fName = input(\"Enter your First Name:\")\n",
    "lName = input(\"Enter your Last Name:\")\n",
    "full_name = fName + \" \" + lName\n",
    "\n",
    "i = len(full_name)\n",
    "i -= 1\n",
    "while i >= 0:\n",
    "    print(full_name[i],end=\"\")\n",
    "    i-=1"
   ]
  },
  {
   "cell_type": "code",
   "execution_count": 6,
   "metadata": {},
   "outputs": [
    {
     "name": "stdout",
     "output_type": "stream",
     "text": [
      "Enter first no: 3\n",
      "Enter Second no: 4\n",
      "First number you entered:  3\n",
      "Second number you entered:  4\n",
      "The answer is:  7\n"
     ]
    }
   ],
   "source": [
    "no1 = int(input(\"Enter first no: \"))\n",
    "no2 = int(input(\"Enter Second no: \"))\n",
    "add = no1+no2\n",
    "print(\"First number you entered: \", no1)\n",
    "print(\"Second number you entered: \", no2)\n",
    "print(\"The answer is: \" ,add)"
   ]
  }
 ],
 "metadata": {
  "kernelspec": {
   "display_name": "Python 3",
   "language": "python",
   "name": "python3"
  },
  "language_info": {
   "codemirror_mode": {
    "name": "ipython",
    "version": 3
   },
   "file_extension": ".py",
   "mimetype": "text/x-python",
   "name": "python",
   "nbconvert_exporter": "python",
   "pygments_lexer": "ipython3",
   "version": "3.7.6"
  }
 },
 "nbformat": 4,
 "nbformat_minor": 4
}
